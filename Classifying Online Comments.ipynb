{
 "cells": [
  {
   "cell_type": "markdown",
   "metadata": {},
   "source": [
    "# Classifying Online Comments\n",
    "\n",
    "## 1.1 Problem Statement \n",
    "\n",
    "The Conversation AI team, a research initiative founded by Jigsaw and Google (both a part of Alphabet) are working on tools to help improve online conversation. One area of focus is the study of negative online behaviors, like toxic comments (i.e. comments that are rude, disrespectful or otherwise likely to make someone leave a discussion). \n",
    "\n",
    "So far they’ve built a range of publicly available models served through the Perspective API, including toxicity. But the current models still make errors, and they don’t allow users to select which types of toxicity they’re interested in finding (e.g. some platforms may be fine with profanity, but not with other types of toxic content).\n",
    "\n",
    "## 1.2. Objective\n",
    "\n",
    "Build a model that can classify online comments. Possible class labels include: 'toxic', 'severe_toxic', 'obscene', 'threat', 'insult', 'identity_hate', 'non_toxic'\n",
    "\n",
    "## 1.3 Workflow and Approach\n",
    "\n",
    "1. Reading data and preprocessing steps\n",
    "2. Exploratory Data Analysis\n",
    "3. Predictive Modelling \n",
    "\n",
    "I am approaching this as a multi-label classification problem, prediction from 1 to more labels for each observation. The datasets include training and test sets which consist of 66,171 and 153,164 samples respectively. "
   ]
  },
  {
   "cell_type": "markdown",
   "metadata": {},
   "source": [
    "# Reading, Cleaning and Exploratory Data Analysis\n",
    "\n",
    "Steps:\n",
    "1. Importing dependencies (nltk, matplotlib, sklearn, seaborn, pandas, etc)\n",
    "2. data cleaning (removing stopwords, non alphabetic characters, lowering comment texts)\n",
    "3. Exploratory data analysis: Counting the number of observations or texts with no label, 1 label and more than 1 label\n",
    "4. Seperating the training set into toxic_df for toxic comments and non_toxic_df for non toxic comments and getting the frequent words in both dataframes\n",
    "5. Creating a column in the training dataframe to house all the labels of an observation as a list. E.g. [toxic, obscene]\n"
   ]
  },
  {
   "cell_type": "code",
   "execution_count": 36,
   "metadata": {},
   "outputs": [
    {
     "name": "stderr",
     "output_type": "stream",
     "text": [
      "[nltk_data] Downloading package stopwords to\n",
      "[nltk_data]     /Users/oluwaseyi.ogunnowo/nltk_data...\n",
      "[nltk_data]   Package stopwords is already up-to-date!\n"
     ]
    },
    {
     "data": {
      "text/html": [
       "<div>\n",
       "<style scoped>\n",
       "    .dataframe tbody tr th:only-of-type {\n",
       "        vertical-align: middle;\n",
       "    }\n",
       "\n",
       "    .dataframe tbody tr th {\n",
       "        vertical-align: top;\n",
       "    }\n",
       "\n",
       "    .dataframe thead th {\n",
       "        text-align: right;\n",
       "    }\n",
       "</style>\n",
       "<table border=\"1\" class=\"dataframe\">\n",
       "  <thead>\n",
       "    <tr style=\"text-align: right;\">\n",
       "      <th></th>\n",
       "      <th>id</th>\n",
       "      <th>comment_text</th>\n",
       "      <th>toxic</th>\n",
       "      <th>severe_toxic</th>\n",
       "      <th>obscene</th>\n",
       "      <th>threat</th>\n",
       "      <th>insult</th>\n",
       "      <th>identity_hate</th>\n",
       "    </tr>\n",
       "  </thead>\n",
       "  <tbody>\n",
       "    <tr>\n",
       "      <th>0</th>\n",
       "      <td>0000997932d777bf</td>\n",
       "      <td>Explanation\\nWhy the edits made under my usern...</td>\n",
       "      <td>0</td>\n",
       "      <td>0</td>\n",
       "      <td>0</td>\n",
       "      <td>0</td>\n",
       "      <td>0</td>\n",
       "      <td>0</td>\n",
       "    </tr>\n",
       "    <tr>\n",
       "      <th>1</th>\n",
       "      <td>000103f0d9cfb60f</td>\n",
       "      <td>D'aww! He matches this background colour I'm s...</td>\n",
       "      <td>0</td>\n",
       "      <td>0</td>\n",
       "      <td>0</td>\n",
       "      <td>0</td>\n",
       "      <td>0</td>\n",
       "      <td>0</td>\n",
       "    </tr>\n",
       "  </tbody>\n",
       "</table>\n",
       "</div>"
      ],
      "text/plain": [
       "                 id                                       comment_text  toxic  \\\n",
       "0  0000997932d777bf  Explanation\\nWhy the edits made under my usern...      0   \n",
       "1  000103f0d9cfb60f  D'aww! He matches this background colour I'm s...      0   \n",
       "\n",
       "   severe_toxic  obscene  threat  insult  identity_hate  \n",
       "0             0        0       0       0              0  \n",
       "1             0        0       0       0              0  "
      ]
     },
     "execution_count": 36,
     "metadata": {},
     "output_type": "execute_result"
    }
   ],
   "source": [
    "import re\n",
    "import pandas as pd\n",
    "import numpy as np\n",
    "import matplotlib.pyplot as plt\n",
    "import seaborn as sns\n",
    "\n",
    "import nltk\n",
    "from nltk.tokenize import RegexpTokenizer\n",
    "from nltk.corpus import stopwords\n",
    "from nltk.stem import WordNetLemmatizer\n",
    "\n",
    "nltk.download('stopwords')\n",
    "tokenizer = RegexpTokenizer(r'\\w+')\n",
    "stop_words = set(stopwords.words('english'))\n",
    "\n",
    "from sklearn.preprocessing import MultiLabelBinarizer\n",
    "from sklearn.model_selection import train_test_split\n",
    "from sklearn.metrics import f1_score\n",
    "from sklearn.naive_bayes import MultinomialNB\n",
    "from sklearn.multioutput import MultiOutputClassifier\n",
    "from sklearn.svm import LinearSVC\n",
    "from sklearn.feature_extraction.text import TfidfVectorizer\n",
    "\n",
    "\n",
    "from collections import Counter\n",
    "\n",
    "from IPython.display import display, Markdown, Latex\n",
    "\n",
    "from theta import modelling as tm\n",
    "\n",
    "\n",
    "multilabel_binarizer = MultiLabelBinarizer()\n",
    "nbayes = MultinomialNB()\n",
    "svm = LinearSVC(random_state=42)\n",
    "\n",
    "train_df = pd.read_csv('train.csv')\n",
    "test_df = pd.read_csv('test 2.csv')\n",
    "test_labels = pd.read_csv('test_labels.csv')\n",
    "\n",
    "train_df.head(2)"
   ]
  },
  {
   "cell_type": "code",
   "execution_count": 37,
   "metadata": {},
   "outputs": [
    {
     "data": {
      "text/html": [
       "<div>\n",
       "<style scoped>\n",
       "    .dataframe tbody tr th:only-of-type {\n",
       "        vertical-align: middle;\n",
       "    }\n",
       "\n",
       "    .dataframe tbody tr th {\n",
       "        vertical-align: top;\n",
       "    }\n",
       "\n",
       "    .dataframe thead th {\n",
       "        text-align: right;\n",
       "    }\n",
       "</style>\n",
       "<table border=\"1\" class=\"dataframe\">\n",
       "  <thead>\n",
       "    <tr style=\"text-align: right;\">\n",
       "      <th></th>\n",
       "      <th>id</th>\n",
       "      <th>comment_text</th>\n",
       "    </tr>\n",
       "  </thead>\n",
       "  <tbody>\n",
       "    <tr>\n",
       "      <th>0</th>\n",
       "      <td>00001cee341fdb12</td>\n",
       "      <td>Yo bitch Ja Rule is more succesful then you'll...</td>\n",
       "    </tr>\n",
       "    <tr>\n",
       "      <th>1</th>\n",
       "      <td>0000247867823ef7</td>\n",
       "      <td>== From RfC == \\n\\n The title is fine as it is...</td>\n",
       "    </tr>\n",
       "  </tbody>\n",
       "</table>\n",
       "</div>"
      ],
      "text/plain": [
       "                 id                                       comment_text\n",
       "0  00001cee341fdb12  Yo bitch Ja Rule is more succesful then you'll...\n",
       "1  0000247867823ef7  == From RfC == \\n\\n The title is fine as it is..."
      ]
     },
     "execution_count": 37,
     "metadata": {},
     "output_type": "execute_result"
    }
   ],
   "source": [
    "test_df.head(2)"
   ]
  },
  {
   "cell_type": "code",
   "execution_count": 38,
   "metadata": {},
   "outputs": [
    {
     "name": "stdout",
     "output_type": "stream",
     "text": [
      "id               0\n",
      "comment_text     0\n",
      "toxic            0\n",
      "severe_toxic     0\n",
      "obscene          0\n",
      "threat           0\n",
      "insult           0\n",
      "identity_hate    0\n",
      "dtype: int64 (159571, 8)\n",
      "id              0\n",
      "comment_text    0\n",
      "dtype: int64 (153164, 2)\n"
     ]
    }
   ],
   "source": [
    "dfs = [train_df, test_df]\n",
    "for i in dfs:\n",
    "    print(i.isnull().sum(), i.shape)"
   ]
  },
  {
   "cell_type": "code",
   "execution_count": 39,
   "metadata": {},
   "outputs": [
    {
     "data": {
      "text/html": [
       "<div>\n",
       "<style scoped>\n",
       "    .dataframe tbody tr th:only-of-type {\n",
       "        vertical-align: middle;\n",
       "    }\n",
       "\n",
       "    .dataframe tbody tr th {\n",
       "        vertical-align: top;\n",
       "    }\n",
       "\n",
       "    .dataframe thead th {\n",
       "        text-align: right;\n",
       "    }\n",
       "</style>\n",
       "<table border=\"1\" class=\"dataframe\">\n",
       "  <thead>\n",
       "    <tr style=\"text-align: right;\">\n",
       "      <th></th>\n",
       "      <th>num_of_labels</th>\n",
       "      <th>total</th>\n",
       "    </tr>\n",
       "  </thead>\n",
       "  <tbody>\n",
       "    <tr>\n",
       "      <th>0</th>\n",
       "      <td>0</td>\n",
       "      <td>143400</td>\n",
       "    </tr>\n",
       "    <tr>\n",
       "      <th>1</th>\n",
       "      <td>1</td>\n",
       "      <td>6473</td>\n",
       "    </tr>\n",
       "    <tr>\n",
       "      <th>2</th>\n",
       "      <td>3</td>\n",
       "      <td>4647</td>\n",
       "    </tr>\n",
       "    <tr>\n",
       "      <th>3</th>\n",
       "      <td>2</td>\n",
       "      <td>3510</td>\n",
       "    </tr>\n",
       "    <tr>\n",
       "      <th>4</th>\n",
       "      <td>4</td>\n",
       "      <td>1446</td>\n",
       "    </tr>\n",
       "    <tr>\n",
       "      <th>5</th>\n",
       "      <td>5</td>\n",
       "      <td>95</td>\n",
       "    </tr>\n",
       "  </tbody>\n",
       "</table>\n",
       "</div>"
      ],
      "text/plain": [
       "   num_of_labels   total\n",
       "0              0  143400\n",
       "1              1    6473\n",
       "2              3    4647\n",
       "3              2    3510\n",
       "4              4    1446\n",
       "5              5      95"
      ]
     },
     "execution_count": 39,
     "metadata": {},
     "output_type": "execute_result"
    }
   ],
   "source": [
    "#text cleaning function\n",
    "def clean_text(text):\n",
    "    \n",
    "    text = text.lower()\n",
    "    text = re.sub(\"[^a-zA-Z]+\", \" \", text)\n",
    "    text = tokenizer.tokenize(text)\n",
    "    text = [i for i in text if i not in stop_words]\n",
    "    text = ' '.join(text)\n",
    "    \n",
    "    return text\n",
    "\n",
    "train_df['comment_text'] = train_df['comment_text'].apply(lambda x: clean_text(x))\n",
    "train_df['total'] = train_df.iloc[:,1:7].sum(axis = 1)\n",
    "\n",
    "#identifying number of comments per toxicity category\n",
    "toxicity_df = pd.DataFrame(train_df['total'].value_counts()).reset_index(drop = False)\n",
    "toxicity_df = toxicity_df.rename({'index':'num_of_labels'}, axis = 1)\n",
    "toxicity_df"
   ]
  },
  {
   "cell_type": "code",
   "execution_count": 40,
   "metadata": {},
   "outputs": [
    {
     "data": {
      "text/markdown": [
       "### Count of comments by number of labels"
      ],
      "text/plain": [
       "<IPython.core.display.Markdown object>"
      ]
     },
     "metadata": {},
     "output_type": "display_data"
    },
    {
     "data": {
      "text/plain": [
       "<AxesSubplot:xlabel='num_of_labels', ylabel='total'>"
      ]
     },
     "execution_count": 40,
     "metadata": {},
     "output_type": "execute_result"
    },
    {
     "data": {
      "image/png": "[encoded data removed]",
      "text/plain": [
       "<Figure size 1080x720 with 1 Axes>"
      ]
     },
     "metadata": {
      "needs_background": "light"
     },
     "output_type": "display_data"
    }
   ],
   "source": [
    "display(Markdown('### Count of comments by number of labels'))\n",
    "plt.figure(figsize = (15,10))\n",
    "sns.barplot(y = 'total', x = 'num_of_labels', data = toxicity_df)"
   ]
  },
  {
   "cell_type": "code",
   "execution_count": 41,
   "metadata": {},
   "outputs": [
    {
     "data": {
      "text/markdown": [
       "### Frequency of top 50 words in toxic_df"
      ],
      "text/plain": [
       "<IPython.core.display.Markdown object>"
      ]
     },
     "metadata": {},
     "output_type": "display_data"
    },
    {
     "data": {
      "image/png": "[encoded data removed]",
      "text/plain": [
       "<Figure size 1296x1080 with 1 Axes>"
      ]
     },
     "metadata": {
      "needs_background": "light"
     },
     "output_type": "display_data"
    }
   ],
   "source": [
    "toxic_df = train_df.loc[train_df['total'] > 0]\n",
    "non_toxic_df = train_df.loc[train_df['total'] == 0]\n",
    "\n",
    "def word_frequency(df = 'df', column = 'pd.Series', terms = 'n', size = ('tuple')):\n",
    "    \n",
    "\n",
    "    name =[x for x in globals() if globals()[x] is df][0]\n",
    "\n",
    "    \n",
    "    texts = ' '.join([i for i in df[column]])\n",
    "    texts = texts.split()\n",
    "    frequency = Counter(texts)\n",
    "    word_df = pd.DataFrame({'word':frequency.keys(),\n",
    "                           'frequency':frequency.values()})\n",
    "    \n",
    "    if terms:\n",
    "        display(Markdown('### Frequency of top {} words in {}'.format(terms, name)))\n",
    "        top_n = word_df.nlargest(columns = 'frequency', n = terms)\n",
    "        plt.figure(figsize = size)\n",
    "        sns.barplot(y = 'word', x = 'frequency', data = top_n)\n",
    "    else:\n",
    "        display(Markdown('### Frequency of words in {}'.format(name)))\n",
    "        plt.figure(figsize = size)\n",
    "        sns.barplot(y = 'word', x = 'frequency', data = word_df)\n",
    "    \n",
    "    \n",
    "\n",
    "word_frequency(df = toxic_df, column = 'comment_text', terms = 50, size = (18,15))"
   ]
  },
  {
   "cell_type": "code",
   "execution_count": 42,
   "metadata": {},
   "outputs": [
    {
     "data": {
      "text/markdown": [
       "### Frequency of top 50 words in non_toxic_df"
      ],
      "text/plain": [
       "<IPython.core.display.Markdown object>"
      ]
     },
     "metadata": {},
     "output_type": "display_data"
    },
    {
     "data": {
      "image/png": "[encoded data removed]",
      "text/plain": [
       "<Figure size 1296x1080 with 1 Axes>"
      ]
     },
     "metadata": {
      "needs_background": "light"
     },
     "output_type": "display_data"
    }
   ],
   "source": [
    "word_frequency(df = non_toxic_df, column = 'comment_text', terms = 50, size = (18,15))"
   ]
  },
  {
   "cell_type": "code",
   "execution_count": 43,
   "metadata": {},
   "outputs": [],
   "source": [
    "columns = ['toxic', 'severe_toxic', 'obscene', 'threat', 'insult', 'identity_hate']\n",
    "\n",
    "for column in train_df[columns]:\n",
    "    train_df[column] = train_df[column].map({1:column,\n",
    "                                            0:None})\n",
    "\n",
    "    \n",
    "labels_list = train_df.iloc[:,2:8]\n",
    "\n",
    "labels_list = labels_list.values.tolist()\n",
    "labels_list\n",
    "\n",
    "result = []\n",
    "\n",
    "for i in labels_list:\n",
    "    result.append([j for j in i if j is not None])\n",
    "\n",
    "train_df['toxic_labels'] = result"
   ]
  },
  {
   "cell_type": "markdown",
   "metadata": {},
   "source": [
    "## Key Takeaways\n",
    "\n",
    "We are working with two seperate dataframes of the same kind of data in this project. The first is train_df consisting of 66,171 observations and 8 columns and test set consisting of 153,164 observations and 2 columns. None of these dataframes have null values, thankfully :)\n",
    "\n",
    "I summed the columns of the labels in the training set for each observation to give me a count of labels for each observation. More than 60% of comments have 0 labels, meaning that these are not toxic. a few have just 1 label, and the rest, have multiple labels. The highest number of labels for a text is 4. meaning a comment text has 4 different predictions/ labels attached to it. \n",
    "\n",
    "I also visualized words that characterize toxic and non toxic comments. The frequent words are indicative of these two categories. See the chart above for the kind of words associated with these two dataframes. "
   ]
  },
  {
   "cell_type": "markdown",
   "metadata": {},
   "source": [
    "# Modelling\n",
    "\n",
    "As mentioned, the data in the training set is unbalanced, so we will employ sampling to select messages that are not toxic from the training set and all toxic messages from the same dataset. \n",
    "\n",
    "Steps: \n",
    "1. binarizing dependent variables \n",
    "2. vectorizing texts\n",
    "3. splitting training set into train and validation sets \n",
    "4. model benchmarking"
   ]
  },
  {
   "cell_type": "code",
   "execution_count": 44,
   "metadata": {},
   "outputs": [],
   "source": [
    "toxic_df = train_df.loc[train_df['total'] > 0]\n",
    "non_toxic_df = train_df.loc[train_df['total'] == 0].head(50000)\n",
    "\n",
    "for row in non_toxic_df['toxic_labels']:\n",
    "    row = row.append('non_toxic')"
   ]
  },
  {
   "cell_type": "code",
   "execution_count": 45,
   "metadata": {},
   "outputs": [
    {
     "data": {
      "text/html": [
       "<div>\n",
       "<style scoped>\n",
       "    .dataframe tbody tr th:only-of-type {\n",
       "        vertical-align: middle;\n",
       "    }\n",
       "\n",
       "    .dataframe tbody tr th {\n",
       "        vertical-align: top;\n",
       "    }\n",
       "\n",
       "    .dataframe thead th {\n",
       "        text-align: right;\n",
       "    }\n",
       "</style>\n",
       "<table border=\"1\" class=\"dataframe\">\n",
       "  <thead>\n",
       "    <tr style=\"text-align: right;\">\n",
       "      <th></th>\n",
       "      <th>comment_text</th>\n",
       "      <th>toxic_labels</th>\n",
       "    </tr>\n",
       "  </thead>\n",
       "  <tbody>\n",
       "    <tr>\n",
       "      <th>0</th>\n",
       "      <td>cozumel added citation needed tag information ...</td>\n",
       "      <td>[non_toxic]</td>\n",
       "    </tr>\n",
       "    <tr>\n",
       "      <th>1</th>\n",
       "      <td>utc seriously fuck guy fucking face fucking si...</td>\n",
       "      <td>[toxic, severe_toxic, obscene, insult]</td>\n",
       "    </tr>\n",
       "    <tr>\n",
       "      <th>2</th>\n",
       "      <td>mum turtle article mum turtle flagged deletion...</td>\n",
       "      <td>[non_toxic]</td>\n",
       "    </tr>\n",
       "    <tr>\n",
       "      <th>3</th>\n",
       "      <td>adminship know asked previously would interest...</td>\n",
       "      <td>[non_toxic]</td>\n",
       "    </tr>\n",
       "    <tr>\n",
       "      <th>4</th>\n",
       "      <td>discussion well would joke say picked good id ...</td>\n",
       "      <td>[non_toxic]</td>\n",
       "    </tr>\n",
       "    <tr>\n",
       "      <th>...</th>\n",
       "      <td>...</td>\n",
       "      <td>...</td>\n",
       "    </tr>\n",
       "    <tr>\n",
       "      <th>66166</th>\n",
       "      <td>biggest vandalist must leave administrator wor...</td>\n",
       "      <td>[toxic, insult]</td>\n",
       "    </tr>\n",
       "    <tr>\n",
       "      <th>66167</th>\n",
       "      <td>aha quite interesting thanks bringing attentio...</td>\n",
       "      <td>[non_toxic]</td>\n",
       "    </tr>\n",
       "    <tr>\n",
       "      <th>66168</th>\n",
       "      <td>pretend psychic one knows ghirla thinks harass...</td>\n",
       "      <td>[non_toxic]</td>\n",
       "    </tr>\n",
       "    <tr>\n",
       "      <th>66169</th>\n",
       "      <td>except said bottom two america get much cleare...</td>\n",
       "      <td>[non_toxic]</td>\n",
       "    </tr>\n",
       "    <tr>\n",
       "      <th>66170</th>\n",
       "      <td>whoever said people arab homosexuals bad thing...</td>\n",
       "      <td>[toxic, obscene, identity_hate]</td>\n",
       "    </tr>\n",
       "  </tbody>\n",
       "</table>\n",
       "<p>66171 rows × 2 columns</p>\n",
       "</div>"
      ],
      "text/plain": [
       "                                            comment_text  \\\n",
       "0      cozumel added citation needed tag information ...   \n",
       "1      utc seriously fuck guy fucking face fucking si...   \n",
       "2      mum turtle article mum turtle flagged deletion...   \n",
       "3      adminship know asked previously would interest...   \n",
       "4      discussion well would joke say picked good id ...   \n",
       "...                                                  ...   \n",
       "66166  biggest vandalist must leave administrator wor...   \n",
       "66167  aha quite interesting thanks bringing attentio...   \n",
       "66168  pretend psychic one knows ghirla thinks harass...   \n",
       "66169  except said bottom two america get much cleare...   \n",
       "66170  whoever said people arab homosexuals bad thing...   \n",
       "\n",
       "                                 toxic_labels  \n",
       "0                                 [non_toxic]  \n",
       "1      [toxic, severe_toxic, obscene, insult]  \n",
       "2                                 [non_toxic]  \n",
       "3                                 [non_toxic]  \n",
       "4                                 [non_toxic]  \n",
       "...                                       ...  \n",
       "66166                         [toxic, insult]  \n",
       "66167                             [non_toxic]  \n",
       "66168                             [non_toxic]  \n",
       "66169                             [non_toxic]  \n",
       "66170         [toxic, obscene, identity_hate]  \n",
       "\n",
       "[66171 rows x 2 columns]"
      ]
     },
     "execution_count": 45,
     "metadata": {},
     "output_type": "execute_result"
    }
   ],
   "source": [
    "train_df = pd.concat([toxic_df, non_toxic_df], axis = 0).sample(frac = 1)\n",
    "train_df = train_df.reset_index(drop = True)\n",
    "train_df = train_df[['comment_text', 'toxic_labels']]\n",
    "train_df"
   ]
  },
  {
   "cell_type": "code",
   "execution_count": 10,
   "metadata": {},
   "outputs": [],
   "source": [
    "multilabel_binarizer.fit(train_df['toxic_labels'])\n",
    "\n",
    "# transform target variable\n",
    "y = multilabel_binarizer.transform(train_df['toxic_labels'])\n",
    "\n",
    "from sklearn.feature_extraction.text import TfidfVectorizer\n",
    "\n",
    "tfidf_vectorizer = TfidfVectorizer(max_df=0.1, max_features=10000)\n",
    "\n",
    "x_train, x_val, y_train, y_val = train_test_split(train_df['comment_text'], y, test_size = 0.1)\n",
    "\n",
    "# create TF-IDF features\n",
    "x_train_tfidf = tfidf_vectorizer.fit_transform(x_train)\n",
    "x_val_tfidf = tfidf_vectorizer.transform(x_val)"
   ]
  },
  {
   "cell_type": "code",
   "execution_count": 11,
   "metadata": {},
   "outputs": [],
   "source": [
    "svm_clf = MultiOutputClassifier(svm, n_jobs=-1)\n",
    "nbayes_clf = MultiOutputClassifier(nbayes, n_jobs=-1)"
   ]
  },
  {
   "cell_type": "code",
   "execution_count": 14,
   "metadata": {},
   "outputs": [
    {
     "name": "stdout",
     "output_type": "stream",
     "text": [
      "\n",
      "\n",
      "algorithm: MultiOutputClassifier(estimator=LinearSVC(random_state=42), n_jobs=-1)\n",
      "0.8774872802377714\n",
      "0.8121789060139015\n",
      "\n",
      "\n",
      "training and test score difference: 0.06530837422386992\n",
      "\n",
      "\n",
      "algorithm: MultiOutputClassifier(estimator=MultinomialNB(), n_jobs=-1)\n",
      "0.8143838261716454\n",
      "0.8008461770927773\n",
      "\n",
      "\n",
      "training and test score difference: 0.01353764907886812\n"
     ]
    },
    {
     "data": {
      "text/html": [
       "<div>\n",
       "<style scoped>\n",
       "    .dataframe tbody tr th:only-of-type {\n",
       "        vertical-align: middle;\n",
       "    }\n",
       "\n",
       "    .dataframe tbody tr th {\n",
       "        vertical-align: top;\n",
       "    }\n",
       "\n",
       "    .dataframe thead th {\n",
       "        text-align: right;\n",
       "    }\n",
       "</style>\n",
       "<table border=\"1\" class=\"dataframe\">\n",
       "  <thead>\n",
       "    <tr style=\"text-align: right;\">\n",
       "      <th></th>\n",
       "      <th>alg_name</th>\n",
       "      <th>train_score</th>\n",
       "      <th>test_score</th>\n",
       "      <th>precision</th>\n",
       "      <th>recall</th>\n",
       "      <th>f1</th>\n",
       "    </tr>\n",
       "  </thead>\n",
       "  <tbody>\n",
       "    <tr>\n",
       "      <th>0</th>\n",
       "      <td>MultiOutputClassifier</td>\n",
       "      <td>0.877487</td>\n",
       "      <td>0.812179</td>\n",
       "      <td>0.895769</td>\n",
       "      <td>0.849754</td>\n",
       "      <td>0.872155</td>\n",
       "    </tr>\n",
       "    <tr>\n",
       "      <th>1</th>\n",
       "      <td>MultiOutputClassifier</td>\n",
       "      <td>0.814384</td>\n",
       "      <td>0.800846</td>\n",
       "      <td>0.895879</td>\n",
       "      <td>0.806459</td>\n",
       "      <td>0.848821</td>\n",
       "    </tr>\n",
       "  </tbody>\n",
       "</table>\n",
       "</div>"
      ],
      "text/plain": [
       "                alg_name  train_score  test_score  precision    recall  \\\n",
       "0  MultiOutputClassifier     0.877487    0.812179   0.895769  0.849754   \n",
       "1  MultiOutputClassifier     0.814384    0.800846   0.895879  0.806459   \n",
       "\n",
       "         f1  \n",
       "0  0.872155  \n",
       "1  0.848821  "
      ]
     },
     "execution_count": 14,
     "metadata": {},
     "output_type": "execute_result"
    }
   ],
   "source": [
    "from sklearn.metrics import accuracy_score, precision_score, f1_score, confusion_matrix, recall_score\n",
    "\n",
    "def benchmark(x_train, x_test, y_train, y_test, algs = ['list of algs']):\n",
    "    \n",
    "    train = []\n",
    "    test = []\n",
    "    name = []\n",
    "    recall = []\n",
    "    precision = []\n",
    "    f1 = []\n",
    "    \n",
    "    for alg in algs:\n",
    "        name.append(type(alg).__name__)\n",
    "        print('\\n')\n",
    "        print('algorithm:', alg)\n",
    "        \n",
    "        \n",
    "        training = alg.fit(x_train, y_train)\n",
    "        training_score = alg.score(x_train, y_train)\n",
    "        y_pred = alg.predict(x_test)\n",
    "        test_score = alg.score(x_test, y_test)\n",
    "        \n",
    "        f1.append(f1_score(y_test, y_pred, average = 'micro'))\n",
    "        recall.append(recall_score(y_test, y_pred, average = 'micro'))\n",
    "        precision.append(precision_score(y_test, y_pred, average = 'micro'))\n",
    "        \n",
    "        print(training_score)\n",
    "        print(test_score)\n",
    "        print('\\n')\n",
    "        print('training and test score difference:', training_score - test_score)\n",
    "        if (training_score - test_score) > 0.1:\n",
    "            print('model likely overfitting, investigate further')\n",
    "            \n",
    "        train.append(training_score)\n",
    "        test.append(test_score)\n",
    "        \n",
    "    benchmark = pd.DataFrame({'alg_name': name,\n",
    "                             'train_score':train,\n",
    "                             'test_score':test,\n",
    "                             'precision':precision,\n",
    "                             'recall':recall,\n",
    "                             'f1':f1}, columns = ['alg_name', 'train_score', 'test_score', 'precision', 'recall', 'f1'])\n",
    "        \n",
    "    return benchmark\n",
    "\n",
    "benchmark(x_train_tfidf, x_val_tfidf, y_train, y_val, algs = [svm_clf, nbayes_clf])"
   ]
  },
  {
   "cell_type": "code",
   "execution_count": 27,
   "metadata": {},
   "outputs": [],
   "source": [
    "def model_pipeline(text):\n",
    "    \n",
    "    text = text.apply(lambda x: clean_text(x))\n",
    "    vectors = tfidf_vectorizer.transform(text)\n",
    "    predictions = svm_clf.predict(vectors)\n",
    "    predictions = multilabel_binarizer.inverse_transform(predictions)\n",
    "    \n",
    "    cleaned = []\n",
    "    \n",
    "    for i in predictions:\n",
    "        cleaned.append(list(i))\n",
    "        \n",
    "    return cleaned\n",
    "\n",
    "\n",
    "predictions = model_pipeline(test_df['comment_text'])\n",
    "test_df['predictions'] = predictions"
   ]
  },
  {
   "cell_type": "code",
   "execution_count": 30,
   "metadata": {},
   "outputs": [
    {
     "data": {
      "text/html": [
       "<div>\n",
       "<style scoped>\n",
       "    .dataframe tbody tr th:only-of-type {\n",
       "        vertical-align: middle;\n",
       "    }\n",
       "\n",
       "    .dataframe tbody tr th {\n",
       "        vertical-align: top;\n",
       "    }\n",
       "\n",
       "    .dataframe thead th {\n",
       "        text-align: right;\n",
       "    }\n",
       "</style>\n",
       "<table border=\"1\" class=\"dataframe\">\n",
       "  <thead>\n",
       "    <tr style=\"text-align: right;\">\n",
       "      <th></th>\n",
       "      <th>id</th>\n",
       "      <th>comment_text</th>\n",
       "      <th>predictions</th>\n",
       "    </tr>\n",
       "  </thead>\n",
       "  <tbody>\n",
       "    <tr>\n",
       "      <th>0</th>\n",
       "      <td>00001cee341fdb12</td>\n",
       "      <td>Yo bitch Ja Rule is more succesful then you'll...</td>\n",
       "      <td>[insult, obscene, toxic]</td>\n",
       "    </tr>\n",
       "    <tr>\n",
       "      <th>1</th>\n",
       "      <td>0000247867823ef7</td>\n",
       "      <td>== From RfC == \\n\\n The title is fine as it is...</td>\n",
       "      <td>[non_toxic]</td>\n",
       "    </tr>\n",
       "    <tr>\n",
       "      <th>2</th>\n",
       "      <td>00013b17ad220c46</td>\n",
       "      <td>\" \\n\\n == Sources == \\n\\n * Zawe Ashton on Lap...</td>\n",
       "      <td>[non_toxic]</td>\n",
       "    </tr>\n",
       "    <tr>\n",
       "      <th>3</th>\n",
       "      <td>00017563c3f7919a</td>\n",
       "      <td>:If you have a look back at the source, the in...</td>\n",
       "      <td>[non_toxic]</td>\n",
       "    </tr>\n",
       "    <tr>\n",
       "      <th>4</th>\n",
       "      <td>00017695ad8997eb</td>\n",
       "      <td>I don't anonymously edit articles at all.</td>\n",
       "      <td>[non_toxic]</td>\n",
       "    </tr>\n",
       "    <tr>\n",
       "      <th>...</th>\n",
       "      <td>...</td>\n",
       "      <td>...</td>\n",
       "      <td>...</td>\n",
       "    </tr>\n",
       "    <tr>\n",
       "      <th>95</th>\n",
       "      <td>0023f3f84f353bce</td>\n",
       "      <td>\" \\n\\n == Main towns that are not so main == \\...</td>\n",
       "      <td>[non_toxic]</td>\n",
       "    </tr>\n",
       "    <tr>\n",
       "      <th>96</th>\n",
       "      <td>002586bdf3280356</td>\n",
       "      <td>\" \\n\\n  my comments follow, bluewillow991967 -...</td>\n",
       "      <td>[non_toxic]</td>\n",
       "    </tr>\n",
       "    <tr>\n",
       "      <th>97</th>\n",
       "      <td>0025a91b6955f1a5</td>\n",
       "      <td>\" \\n\\n == Halliday == \\n\\n Good to see another...</td>\n",
       "      <td>[non_toxic]</td>\n",
       "    </tr>\n",
       "    <tr>\n",
       "      <th>98</th>\n",
       "      <td>0025c49d87d9a18f</td>\n",
       "      <td>\" \\n ::: That Stephen Barrett is not Board Cer...</td>\n",
       "      <td>[non_toxic]</td>\n",
       "    </tr>\n",
       "    <tr>\n",
       "      <th>99</th>\n",
       "      <td>00260d8dfcc29827</td>\n",
       "      <td>Stone Sour sucks anus</td>\n",
       "      <td>[insult, obscene, toxic]</td>\n",
       "    </tr>\n",
       "  </tbody>\n",
       "</table>\n",
       "<p>100 rows × 3 columns</p>\n",
       "</div>"
      ],
      "text/plain": [
       "                  id                                       comment_text  \\\n",
       "0   00001cee341fdb12  Yo bitch Ja Rule is more succesful then you'll...   \n",
       "1   0000247867823ef7  == From RfC == \\n\\n The title is fine as it is...   \n",
       "2   00013b17ad220c46  \" \\n\\n == Sources == \\n\\n * Zawe Ashton on Lap...   \n",
       "3   00017563c3f7919a  :If you have a look back at the source, the in...   \n",
       "4   00017695ad8997eb          I don't anonymously edit articles at all.   \n",
       "..               ...                                                ...   \n",
       "95  0023f3f84f353bce  \" \\n\\n == Main towns that are not so main == \\...   \n",
       "96  002586bdf3280356  \" \\n\\n  my comments follow, bluewillow991967 -...   \n",
       "97  0025a91b6955f1a5  \" \\n\\n == Halliday == \\n\\n Good to see another...   \n",
       "98  0025c49d87d9a18f  \" \\n ::: That Stephen Barrett is not Board Cer...   \n",
       "99  00260d8dfcc29827                              Stone Sour sucks anus   \n",
       "\n",
       "                 predictions  \n",
       "0   [insult, obscene, toxic]  \n",
       "1                [non_toxic]  \n",
       "2                [non_toxic]  \n",
       "3                [non_toxic]  \n",
       "4                [non_toxic]  \n",
       "..                       ...  \n",
       "95               [non_toxic]  \n",
       "96               [non_toxic]  \n",
       "97               [non_toxic]  \n",
       "98               [non_toxic]  \n",
       "99  [insult, obscene, toxic]  \n",
       "\n",
       "[100 rows x 3 columns]"
      ]
     },
     "execution_count": 30,
     "metadata": {},
     "output_type": "execute_result"
    }
   ],
   "source": [
    "test_df.head(100)"
   ]
  },
  {
   "cell_type": "markdown",
   "metadata": {},
   "source": [
    "## Key takeaways\n",
    "\n",
    "Two models were compared in a benchamrking process that focused on classification evaluation metrics. These metrics include train_score, test_score, f1_score, recall and precision. The LinearSVC based model, outperformed the MultinomialNB based model in virtually all metrics mentioned. However the metric of focus is the f1_score which is the harmonic mean of the recall and precision metrics. \n",
    "\n",
    "The LinearSVC based classifier was then used to make predictions on the test set. "
   ]
  },
  {
   "cell_type": "code",
   "execution_count": 46,
   "metadata": {},
   "outputs": [],
   "source": [
    "import pickle\n",
    "with open('svm_model_pkl', 'wb') as files:\n",
    "    pickle.dump(svm_clf, files)"
   ]
  },
  {
   "cell_type": "code",
   "execution_count": 47,
   "metadata": {},
   "outputs": [],
   "source": [
    "test_df.to_csv('predictions.csv')"
   ]
  },
  {
   "cell_type": "code",
   "execution_count": null,
   "metadata": {},
   "outputs": [],
   "source": []
  }
 ],
 "metadata": {
  "kernelspec": {
   "display_name": "Python 3",
   "language": "python",
   "name": "python3"
  },
  "language_info": {
   "codemirror_mode": {
    "name": "ipython",
    "version": 3
   },
   "file_extension": ".py",
   "mimetype": "text/x-python",
   "name": "python",
   "nbconvert_exporter": "python",
   "pygments_lexer": "ipython3",
   "version": "3.8.5"
  }
 },
 "nbformat": 4,
 "nbformat_minor": 4
}
